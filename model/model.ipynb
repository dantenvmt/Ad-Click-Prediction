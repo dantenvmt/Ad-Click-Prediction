{
 "cells": [
  {
   "cell_type": "code",
   "execution_count": 1,
   "id": "94077f19",
   "metadata": {},
   "outputs": [],
   "source": [
    "import numpy as np\n",
    "import pandas as pd\n",
    "from sklearn.impute import SimpleImputer\n",
    "import matplotlib.pyplot as plt\n",
    "import seaborn as sns\n"
   ]
  },
  {
   "cell_type": "code",
   "execution_count": 2,
   "id": "3fbd0ca9",
   "metadata": {},
   "outputs": [
    {
     "name": "stdout",
     "output_type": "stream",
     "text": [
      "<bound method DataFrame.info of         id full_name   age      gender device_type ad_position  \\\n",
      "0      670   User670  22.0         NaN     Desktop         Top   \n",
      "1     3044  User3044   NaN        Male     Desktop         Top   \n",
      "2     5912  User5912  41.0  Non-Binary         NaN        Side   \n",
      "3     5418  User5418  34.0        Male         NaN         NaN   \n",
      "4     9452  User9452  39.0  Non-Binary         NaN         NaN   \n",
      "...    ...       ...   ...         ...         ...         ...   \n",
      "9995  8510  User8510   NaN         NaN      Mobile         Top   \n",
      "9996  7843  User7843   NaN      Female     Desktop      Bottom   \n",
      "9997  3914  User3914   NaN        Male      Mobile        Side   \n",
      "9998  7924  User7924   NaN         NaN     Desktop         NaN   \n",
      "9999  3056  User3056  44.0        Male      Tablet         Top   \n",
      "\n",
      "     browsing_history time_of_day  click  \n",
      "0            Shopping   Afternoon      1  \n",
      "1                 NaN         NaN      1  \n",
      "2           Education       Night      1  \n",
      "3       Entertainment     Evening      1  \n",
      "4        Social Media     Morning      0  \n",
      "...               ...         ...    ...  \n",
      "9995        Education         NaN      0  \n",
      "9996    Entertainment         NaN      0  \n",
      "9997              NaN     Morning      0  \n",
      "9998         Shopping     Morning      1  \n",
      "9999     Social Media     Morning      0  \n",
      "\n",
      "[10000 rows x 9 columns]>\n",
      "id                     0\n",
      "full_name              0\n",
      "age                 4766\n",
      "gender              4693\n",
      "device_type         2000\n",
      "ad_position         2000\n",
      "browsing_history    4782\n",
      "time_of_day         2000\n",
      "click                  0\n",
      "dtype: int64\n",
      "     id full_name   age      gender device_type ad_position browsing_history  \\\n",
      "0   670   User670  22.0         NaN     Desktop         Top         Shopping   \n",
      "1  3044  User3044   NaN        Male     Desktop         Top              NaN   \n",
      "2  5912  User5912  41.0  Non-Binary         NaN        Side        Education   \n",
      "3  5418  User5418  34.0        Male         NaN         NaN    Entertainment   \n",
      "4  9452  User9452  39.0  Non-Binary         NaN         NaN     Social Media   \n",
      "\n",
      "  time_of_day  click  \n",
      "0   Afternoon      1  \n",
      "1         NaN      1  \n",
      "2       Night      1  \n",
      "3     Evening      1  \n",
      "4     Morning      0  \n"
     ]
    }
   ],
   "source": [
    "df = pd.read_csv('../input/ad_click_dataset.csv')\n",
    "print(df.info)\n",
    "print(df.isnull().sum())\n",
    "print(df.head())"
   ]
  },
  {
   "cell_type": "code",
   "execution_count": 3,
   "id": "dbcc735e",
   "metadata": {},
   "outputs": [
    {
     "name": "stdout",
     "output_type": "stream",
     "text": [
      "unique values in column id:\n",
      "[ 670 3044 5912 ... 7843 3914 3056]\n",
      "\n",
      "\n",
      "unique values in column full_name:\n",
      "['User670' 'User3044' 'User5912' ... 'User7843' 'User3914' 'User3056']\n",
      "\n",
      "\n",
      "unique values in column age:\n",
      "[22. nan 41. 34. 39. 26. 40. 47. 19. 56. 24. 52. 42. 36. 43. 62. 45. 37.\n",
      " 31. 58. 59. 48. 38. 49. 30. 46. 54. 44. 27. 57. 28. 51. 25. 61. 32. 64.\n",
      " 23. 55. 21. 20. 35. 53. 33. 29. 63. 50. 18. 60.]\n",
      "\n",
      "\n",
      "unique values in column gender:\n",
      "[nan 'Male' 'Non-Binary' 'Female']\n",
      "\n",
      "\n",
      "unique values in column device_type:\n",
      "['Desktop' nan 'Mobile' 'Tablet']\n",
      "\n",
      "\n",
      "unique values in column ad_position:\n",
      "['Top' 'Side' nan 'Bottom']\n",
      "\n",
      "\n",
      "unique values in column browsing_history:\n",
      "['Shopping' nan 'Education' 'Entertainment' 'Social Media' 'News']\n",
      "\n",
      "\n",
      "unique values in column time_of_day:\n",
      "['Afternoon' nan 'Night' 'Evening' 'Morning']\n",
      "\n",
      "\n",
      "unique values in column click:\n",
      "[1 0]\n",
      "\n",
      "\n"
     ]
    }
   ],
   "source": [
    "for columns in df.columns:\n",
    "    unique_value = df[columns].unique()\n",
    "    print(f'unique values in column {columns}:')\n",
    "    print(unique_value)\n",
    "    print('\\n')"
   ]
  },
  {
   "cell_type": "code",
   "execution_count": 4,
   "id": "b145c195",
   "metadata": {},
   "outputs": [],
   "source": [
    "age_imputer = SimpleImputer(strategy = 'mean')\n",
    "df['age'] = age_imputer.fit_transform(df[['age']])"
   ]
  },
  {
   "cell_type": "code",
   "execution_count": 5,
   "id": "d2a38615",
   "metadata": {},
   "outputs": [],
   "source": [
    "categorical_columns = ['gender','device_type','ad_position','browsing_history','time_of_day']\n",
    "categorical_imputer = SimpleImputer(strategy = 'most_frequent')\n",
    "\n",
    "df[categorical_columns] = categorical_imputer.fit_transform(df[categorical_columns])"
   ]
  },
  {
   "cell_type": "code",
   "execution_count": 6,
   "id": "c91ac8d8",
   "metadata": {},
   "outputs": [
    {
     "name": "stdout",
     "output_type": "stream",
     "text": [
      "id                  0\n",
      "full_name           0\n",
      "age                 0\n",
      "gender              0\n",
      "device_type         0\n",
      "ad_position         0\n",
      "browsing_history    0\n",
      "time_of_day         0\n",
      "click               0\n",
      "dtype: int64\n",
      "     id full_name        age      gender device_type ad_position  \\\n",
      "0   670   User670  22.000000      Female     Desktop         Top   \n",
      "1  3044  User3044  40.197363        Male     Desktop         Top   \n",
      "2  5912  User5912  41.000000  Non-Binary     Desktop        Side   \n",
      "3  5418  User5418  34.000000        Male     Desktop      Bottom   \n",
      "4  9452  User9452  39.000000  Non-Binary     Desktop      Bottom   \n",
      "\n",
      "  browsing_history time_of_day  click  \n",
      "0         Shopping   Afternoon      1  \n",
      "1    Entertainment     Morning      1  \n",
      "2        Education       Night      1  \n",
      "3    Entertainment     Evening      1  \n",
      "4     Social Media     Morning      0  \n"
     ]
    }
   ],
   "source": [
    "print(df.isnull().sum())\n",
    "print(df.head())"
   ]
  },
  {
   "cell_type": "code",
   "execution_count": 7,
   "id": "9862acb9",
   "metadata": {},
   "outputs": [
    {
     "name": "stdout",
     "output_type": "stream",
     "text": [
      "                age\n",
      "count  10000.000000\n",
      "mean      40.197363\n",
      "std        9.496059\n",
      "min       18.000000\n",
      "25%       38.000000\n",
      "50%       40.197363\n",
      "75%       40.197363\n",
      "max       64.000000\n",
      "       full_name  gender device_type ad_position browsing_history time_of_day\n",
      "count      10000   10000       10000       10000            10000       10000\n",
      "unique      4000       3           3           3                5           4\n",
      "top     User1171  Female     Desktop      Bottom    Entertainment     Morning\n",
      "freq          25    6527        4754        4817             5957        4126\n"
     ]
    }
   ],
   "source": [
    "print(df.describe(include = [float, int]))\n",
    "print(df.describe(include = [object]))\n"
   ]
  },
  {
   "cell_type": "markdown",
   "id": "db68273b",
   "metadata": {},
   "source": [
    "EDA"
   ]
  },
  {
   "cell_type": "code",
   "execution_count": 8,
   "id": "29b29162",
   "metadata": {
    "scrolled": false
   },
   "outputs": [
    {
     "data": {
      "image/png": "[encoded data removed]",
      "text/plain": [
       "<Figure size 720x432 with 1 Axes>"
      ]
     },
     "metadata": {
      "needs_background": "light"
     },
     "output_type": "display_data"
    },
    {
     "data": {
      "image/png": "[encoded data removed]",
      "text/plain": [
       "<Figure size 720x432 with 1 Axes>"
      ]
     },
     "metadata": {
      "needs_background": "light"
     },
     "output_type": "display_data"
    },
    {
     "data": {
      "image/png": "[encoded data removed]",
      "text/plain": [
       "<Figure size 720x432 with 1 Axes>"
      ]
     },
     "metadata": {
      "needs_background": "light"
     },
     "output_type": "display_data"
    },
    {
     "data": {
      "image/png": "[encoded data removed]",
      "text/plain": [
       "<Figure size 720x432 with 1 Axes>"
      ]
     },
     "metadata": {
      "needs_background": "light"
     },
     "output_type": "display_data"
    },
    {
     "data": {
      "image/png": "[encoded data removed]",
      "text/plain": [
       "<Figure size 720x432 with 1 Axes>"
      ]
     },
     "metadata": {
      "needs_background": "light"
     },
     "output_type": "display_data"
    },
    {
     "data": {
      "image/png": "[encoded data removed]",
      "text/plain": [
       "<Figure size 720x432 with 1 Axes>"
      ]
     },
     "metadata": {
      "needs_background": "light"
     },
     "output_type": "display_data"
    }
   ],
   "source": [
    "plt.figure(figsize = (10,6))\n",
    "sns.histplot(df['age'], bins = 20, kde=True)\n",
    "plt.title('Age Distribution')\n",
    "plt.xlabel('Age')\n",
    "plt.ylabel('Frequency')\n",
    "plt.show()\n",
    "\n",
    "for feature in categorical_columns:\n",
    "    plt.figure(figsize = (10,6))\n",
    "    sns.countplot(x =feature, data= df)\n",
    "    plt.title(f'Distribution of {feature}')\n",
    "    plt.xlabel(feature)\n",
    "    plt.ylabel('count')\n",
    "    plt.show()"
   ]
  },
  {
   "cell_type": "code",
   "execution_count": 9,
   "id": "0e6eab40",
   "metadata": {},
   "outputs": [
    {
     "data": {
      "image/png": "[encoded data removed]",
      "text/plain": [
       "<Figure size 720x432 with 1 Axes>"
      ]
     },
     "metadata": {
      "needs_background": "light"
     },
     "output_type": "display_data"
    }
   ],
   "source": [
    "plt.figure(figsize= (10,6))\n",
    "sns.countplot(x = 'click', data= df)\n",
    "plt.title(\"distribution click\")\n",
    "plt.xlabel(\"count\")\n",
    "plt.ylabel('click')\n",
    "plt.show()\n"
   ]
  },
  {
   "cell_type": "code",
   "execution_count": 10,
   "id": "e1aa20aa",
   "metadata": {},
   "outputs": [
    {
     "data": {
      "image/png": "[encoded data removed]",
      "text/plain": [
       "<Figure size 720x432 with 1 Axes>"
      ]
     },
     "metadata": {
      "needs_background": "light"
     },
     "output_type": "display_data"
    }
   ],
   "source": [
    "plt.figure(figsize=(10, 6))\n",
    "sns.barplot(x='device_type', y='click', data=df)\n",
    "plt.title('Click Rate by Device Type')\n",
    "plt.xlabel('Device Type')\n",
    "plt.ylabel('Click Rate')\n",
    "plt.show()"
   ]
  },
  {
   "cell_type": "code",
   "execution_count": 11,
   "id": "5261862b",
   "metadata": {},
   "outputs": [
    {
     "data": {
      "image/png": "[encoded data removed]",
      "text/plain": [
       "<Figure size 720x432 with 1 Axes>"
      ]
     },
     "metadata": {
      "needs_background": "light"
     },
     "output_type": "display_data"
    }
   ],
   "source": [
    "df['age_bin'] = pd.cut(df['age'], bins = [0,10,20,30,40,50,60,70,80,90,100],labels = False)\n",
    "plt.figure(figsize = (10,6))\n",
    "sns.barplot(x = 'age_bin', y = 'click', data =df)\n",
    "plt.title('click rate by age bin')\n",
    "plt.xlabel('Age')\n",
    "plt.ylabel('Click Rate')\n",
    "plt.show()"
   ]
  },
  {
   "cell_type": "markdown",
   "id": "03093e56",
   "metadata": {},
   "source": [
    "Models"
   ]
  },
  {
   "cell_type": "code",
   "execution_count": 12,
   "id": "8d4f0dec",
   "metadata": {},
   "outputs": [],
   "source": [
    "df_encoded = pd.get_dummies(df, columns = ['gender',\n",
    "                                          'device_type',\n",
    "                                          'ad_position',\n",
    "                                          'browsing_history',\n",
    "                                          'time_of_day',\n",
    "                                          ],\n",
    "                           drop_first = True)"
   ]
  },
  {
   "cell_type": "code",
   "execution_count": 13,
   "id": "ef056446",
   "metadata": {},
   "outputs": [
    {
     "data": {
      "text/html": [
       "<div>\n",
       "<style scoped>\n",
       "    .dataframe tbody tr th:only-of-type {\n",
       "        vertical-align: middle;\n",
       "    }\n",
       "\n",
       "    .dataframe tbody tr th {\n",
       "        vertical-align: top;\n",
       "    }\n",
       "\n",
       "    .dataframe thead th {\n",
       "        text-align: right;\n",
       "    }\n",
       "</style>\n",
       "<table border=\"1\" class=\"dataframe\">\n",
       "  <thead>\n",
       "    <tr style=\"text-align: right;\">\n",
       "      <th></th>\n",
       "      <th>id</th>\n",
       "      <th>full_name</th>\n",
       "      <th>age</th>\n",
       "      <th>click</th>\n",
       "      <th>age_bin</th>\n",
       "      <th>gender_Male</th>\n",
       "      <th>gender_Non-Binary</th>\n",
       "      <th>device_type_Mobile</th>\n",
       "      <th>device_type_Tablet</th>\n",
       "      <th>ad_position_Side</th>\n",
       "      <th>ad_position_Top</th>\n",
       "      <th>browsing_history_Entertainment</th>\n",
       "      <th>browsing_history_News</th>\n",
       "      <th>browsing_history_Shopping</th>\n",
       "      <th>browsing_history_Social Media</th>\n",
       "      <th>time_of_day_Evening</th>\n",
       "      <th>time_of_day_Morning</th>\n",
       "      <th>time_of_day_Night</th>\n",
       "    </tr>\n",
       "  </thead>\n",
       "  <tbody>\n",
       "    <tr>\n",
       "      <th>0</th>\n",
       "      <td>670</td>\n",
       "      <td>User670</td>\n",
       "      <td>22.000000</td>\n",
       "      <td>1</td>\n",
       "      <td>2</td>\n",
       "      <td>0</td>\n",
       "      <td>0</td>\n",
       "      <td>0</td>\n",
       "      <td>0</td>\n",
       "      <td>0</td>\n",
       "      <td>1</td>\n",
       "      <td>0</td>\n",
       "      <td>0</td>\n",
       "      <td>1</td>\n",
       "      <td>0</td>\n",
       "      <td>0</td>\n",
       "      <td>0</td>\n",
       "      <td>0</td>\n",
       "    </tr>\n",
       "    <tr>\n",
       "      <th>1</th>\n",
       "      <td>3044</td>\n",
       "      <td>User3044</td>\n",
       "      <td>40.197363</td>\n",
       "      <td>1</td>\n",
       "      <td>4</td>\n",
       "      <td>1</td>\n",
       "      <td>0</td>\n",
       "      <td>0</td>\n",
       "      <td>0</td>\n",
       "      <td>0</td>\n",
       "      <td>1</td>\n",
       "      <td>1</td>\n",
       "      <td>0</td>\n",
       "      <td>0</td>\n",
       "      <td>0</td>\n",
       "      <td>0</td>\n",
       "      <td>1</td>\n",
       "      <td>0</td>\n",
       "    </tr>\n",
       "    <tr>\n",
       "      <th>2</th>\n",
       "      <td>5912</td>\n",
       "      <td>User5912</td>\n",
       "      <td>41.000000</td>\n",
       "      <td>1</td>\n",
       "      <td>4</td>\n",
       "      <td>0</td>\n",
       "      <td>1</td>\n",
       "      <td>0</td>\n",
       "      <td>0</td>\n",
       "      <td>1</td>\n",
       "      <td>0</td>\n",
       "      <td>0</td>\n",
       "      <td>0</td>\n",
       "      <td>0</td>\n",
       "      <td>0</td>\n",
       "      <td>0</td>\n",
       "      <td>0</td>\n",
       "      <td>1</td>\n",
       "    </tr>\n",
       "    <tr>\n",
       "      <th>3</th>\n",
       "      <td>5418</td>\n",
       "      <td>User5418</td>\n",
       "      <td>34.000000</td>\n",
       "      <td>1</td>\n",
       "      <td>3</td>\n",
       "      <td>1</td>\n",
       "      <td>0</td>\n",
       "      <td>0</td>\n",
       "      <td>0</td>\n",
       "      <td>0</td>\n",
       "      <td>0</td>\n",
       "      <td>1</td>\n",
       "      <td>0</td>\n",
       "      <td>0</td>\n",
       "      <td>0</td>\n",
       "      <td>1</td>\n",
       "      <td>0</td>\n",
       "      <td>0</td>\n",
       "    </tr>\n",
       "    <tr>\n",
       "      <th>4</th>\n",
       "      <td>9452</td>\n",
       "      <td>User9452</td>\n",
       "      <td>39.000000</td>\n",
       "      <td>0</td>\n",
       "      <td>3</td>\n",
       "      <td>0</td>\n",
       "      <td>1</td>\n",
       "      <td>0</td>\n",
       "      <td>0</td>\n",
       "      <td>0</td>\n",
       "      <td>0</td>\n",
       "      <td>0</td>\n",
       "      <td>0</td>\n",
       "      <td>0</td>\n",
       "      <td>1</td>\n",
       "      <td>0</td>\n",
       "      <td>1</td>\n",
       "      <td>0</td>\n",
       "    </tr>\n",
       "    <tr>\n",
       "      <th>...</th>\n",
       "      <td>...</td>\n",
       "      <td>...</td>\n",
       "      <td>...</td>\n",
       "      <td>...</td>\n",
       "      <td>...</td>\n",
       "      <td>...</td>\n",
       "      <td>...</td>\n",
       "      <td>...</td>\n",
       "      <td>...</td>\n",
       "      <td>...</td>\n",
       "      <td>...</td>\n",
       "      <td>...</td>\n",
       "      <td>...</td>\n",
       "      <td>...</td>\n",
       "      <td>...</td>\n",
       "      <td>...</td>\n",
       "      <td>...</td>\n",
       "      <td>...</td>\n",
       "    </tr>\n",
       "    <tr>\n",
       "      <th>9995</th>\n",
       "      <td>8510</td>\n",
       "      <td>User8510</td>\n",
       "      <td>40.197363</td>\n",
       "      <td>0</td>\n",
       "      <td>4</td>\n",
       "      <td>0</td>\n",
       "      <td>0</td>\n",
       "      <td>1</td>\n",
       "      <td>0</td>\n",
       "      <td>0</td>\n",
       "      <td>1</td>\n",
       "      <td>0</td>\n",
       "      <td>0</td>\n",
       "      <td>0</td>\n",
       "      <td>0</td>\n",
       "      <td>0</td>\n",
       "      <td>1</td>\n",
       "      <td>0</td>\n",
       "    </tr>\n",
       "    <tr>\n",
       "      <th>9996</th>\n",
       "      <td>7843</td>\n",
       "      <td>User7843</td>\n",
       "      <td>40.197363</td>\n",
       "      <td>0</td>\n",
       "      <td>4</td>\n",
       "      <td>0</td>\n",
       "      <td>0</td>\n",
       "      <td>0</td>\n",
       "      <td>0</td>\n",
       "      <td>0</td>\n",
       "      <td>0</td>\n",
       "      <td>1</td>\n",
       "      <td>0</td>\n",
       "      <td>0</td>\n",
       "      <td>0</td>\n",
       "      <td>0</td>\n",
       "      <td>1</td>\n",
       "      <td>0</td>\n",
       "    </tr>\n",
       "    <tr>\n",
       "      <th>9997</th>\n",
       "      <td>3914</td>\n",
       "      <td>User3914</td>\n",
       "      <td>40.197363</td>\n",
       "      <td>0</td>\n",
       "      <td>4</td>\n",
       "      <td>1</td>\n",
       "      <td>0</td>\n",
       "      <td>1</td>\n",
       "      <td>0</td>\n",
       "      <td>1</td>\n",
       "      <td>0</td>\n",
       "      <td>1</td>\n",
       "      <td>0</td>\n",
       "      <td>0</td>\n",
       "      <td>0</td>\n",
       "      <td>0</td>\n",
       "      <td>1</td>\n",
       "      <td>0</td>\n",
       "    </tr>\n",
       "    <tr>\n",
       "      <th>9998</th>\n",
       "      <td>7924</td>\n",
       "      <td>User7924</td>\n",
       "      <td>40.197363</td>\n",
       "      <td>1</td>\n",
       "      <td>4</td>\n",
       "      <td>0</td>\n",
       "      <td>0</td>\n",
       "      <td>0</td>\n",
       "      <td>0</td>\n",
       "      <td>0</td>\n",
       "      <td>0</td>\n",
       "      <td>0</td>\n",
       "      <td>0</td>\n",
       "      <td>1</td>\n",
       "      <td>0</td>\n",
       "      <td>0</td>\n",
       "      <td>1</td>\n",
       "      <td>0</td>\n",
       "    </tr>\n",
       "    <tr>\n",
       "      <th>9999</th>\n",
       "      <td>3056</td>\n",
       "      <td>User3056</td>\n",
       "      <td>44.000000</td>\n",
       "      <td>0</td>\n",
       "      <td>4</td>\n",
       "      <td>1</td>\n",
       "      <td>0</td>\n",
       "      <td>0</td>\n",
       "      <td>1</td>\n",
       "      <td>0</td>\n",
       "      <td>1</td>\n",
       "      <td>0</td>\n",
       "      <td>0</td>\n",
       "      <td>0</td>\n",
       "      <td>1</td>\n",
       "      <td>0</td>\n",
       "      <td>1</td>\n",
       "      <td>0</td>\n",
       "    </tr>\n",
       "  </tbody>\n",
       "</table>\n",
       "<p>10000 rows × 18 columns</p>\n",
       "</div>"
      ],
      "text/plain": [
       "        id full_name        age  click  age_bin  gender_Male  \\\n",
       "0      670   User670  22.000000      1        2            0   \n",
       "1     3044  User3044  40.197363      1        4            1   \n",
       "2     5912  User5912  41.000000      1        4            0   \n",
       "3     5418  User5418  34.000000      1        3            1   \n",
       "4     9452  User9452  39.000000      0        3            0   \n",
       "...    ...       ...        ...    ...      ...          ...   \n",
       "9995  8510  User8510  40.197363      0        4            0   \n",
       "9996  7843  User7843  40.197363      0        4            0   \n",
       "9997  3914  User3914  40.197363      0        4            1   \n",
       "9998  7924  User7924  40.197363      1        4            0   \n",
       "9999  3056  User3056  44.000000      0        4            1   \n",
       "\n",
       "      gender_Non-Binary  device_type_Mobile  device_type_Tablet  \\\n",
       "0                     0                   0                   0   \n",
       "1                     0                   0                   0   \n",
       "2                     1                   0                   0   \n",
       "3                     0                   0                   0   \n",
       "4                     1                   0                   0   \n",
       "...                 ...                 ...                 ...   \n",
       "9995                  0                   1                   0   \n",
       "9996                  0                   0                   0   \n",
       "9997                  0                   1                   0   \n",
       "9998                  0                   0                   0   \n",
       "9999                  0                   0                   1   \n",
       "\n",
       "      ad_position_Side  ad_position_Top  browsing_history_Entertainment  \\\n",
       "0                    0                1                               0   \n",
       "1                    0                1                               1   \n",
       "2                    1                0                               0   \n",
       "3                    0                0                               1   \n",
       "4                    0                0                               0   \n",
       "...                ...              ...                             ...   \n",
       "9995                 0                1                               0   \n",
       "9996                 0                0                               1   \n",
       "9997                 1                0                               1   \n",
       "9998                 0                0                               0   \n",
       "9999                 0                1                               0   \n",
       "\n",
       "      browsing_history_News  browsing_history_Shopping  \\\n",
       "0                         0                          1   \n",
       "1                         0                          0   \n",
       "2                         0                          0   \n",
       "3                         0                          0   \n",
       "4                         0                          0   \n",
       "...                     ...                        ...   \n",
       "9995                      0                          0   \n",
       "9996                      0                          0   \n",
       "9997                      0                          0   \n",
       "9998                      0                          1   \n",
       "9999                      0                          0   \n",
       "\n",
       "      browsing_history_Social Media  time_of_day_Evening  time_of_day_Morning  \\\n",
       "0                                 0                    0                    0   \n",
       "1                                 0                    0                    1   \n",
       "2                                 0                    0                    0   \n",
       "3                                 0                    1                    0   \n",
       "4                                 1                    0                    1   \n",
       "...                             ...                  ...                  ...   \n",
       "9995                              0                    0                    1   \n",
       "9996                              0                    0                    1   \n",
       "9997                              0                    0                    1   \n",
       "9998                              0                    0                    1   \n",
       "9999                              1                    0                    1   \n",
       "\n",
       "      time_of_day_Night  \n",
       "0                     0  \n",
       "1                     0  \n",
       "2                     1  \n",
       "3                     0  \n",
       "4                     0  \n",
       "...                 ...  \n",
       "9995                  0  \n",
       "9996                  0  \n",
       "9997                  0  \n",
       "9998                  0  \n",
       "9999                  0  \n",
       "\n",
       "[10000 rows x 18 columns]"
      ]
     },
     "execution_count": 13,
     "metadata": {},
     "output_type": "execute_result"
    }
   ],
   "source": [
    "df_encoded"
   ]
  },
  {
   "cell_type": "code",
   "execution_count": 14,
   "id": "63ed3bb8",
   "metadata": {
    "scrolled": true
   },
   "outputs": [
    {
     "name": "stdout",
     "output_type": "stream",
     "text": [
      "         age  age_bin  gender_Male  gender_Non-Binary  device_type_Mobile  \\\n",
      "0  22.000000        2            0                  0                   0   \n",
      "1  40.197363        4            1                  0                   0   \n",
      "2  41.000000        4            0                  1                   0   \n",
      "3  34.000000        3            1                  0                   0   \n",
      "4  39.000000        3            0                  1                   0   \n",
      "\n",
      "   device_type_Tablet  ad_position_Side  ad_position_Top  \\\n",
      "0                   0                 0                1   \n",
      "1                   0                 0                1   \n",
      "2                   0                 1                0   \n",
      "3                   0                 0                0   \n",
      "4                   0                 0                0   \n",
      "\n",
      "   browsing_history_Entertainment  browsing_history_News  \\\n",
      "0                               0                      0   \n",
      "1                               1                      0   \n",
      "2                               0                      0   \n",
      "3                               1                      0   \n",
      "4                               0                      0   \n",
      "\n",
      "   browsing_history_Shopping  browsing_history_Social Media  \\\n",
      "0                          1                              0   \n",
      "1                          0                              0   \n",
      "2                          0                              0   \n",
      "3                          0                              0   \n",
      "4                          0                              1   \n",
      "\n",
      "   time_of_day_Evening  time_of_day_Morning  time_of_day_Night  \n",
      "0                    0                    0                  0  \n",
      "1                    0                    1                  0  \n",
      "2                    0                    0                  1  \n",
      "3                    1                    0                  0  \n",
      "4                    0                    1                  0  \n",
      "0    1\n",
      "1    1\n",
      "2    1\n",
      "3    1\n",
      "4    0\n",
      "Name: click, dtype: int64\n"
     ]
    }
   ],
   "source": [
    "X = df_encoded.drop(['id','full_name'], axis = 1)\n",
    "y = X.pop('click')\n",
    "print(X.head())\n",
    "print(y.head())"
   ]
  },
  {
   "cell_type": "code",
   "execution_count": 15,
   "id": "d54aba8a",
   "metadata": {},
   "outputs": [],
   "source": [
    "from sklearn.model_selection import train_test_split\n",
    "X_train, X_test, y_train, y_test  = train_test_split(X, y, test_size = 0.7, train_size = 0.3, random_state = 15)"
   ]
  },
  {
   "cell_type": "code",
   "execution_count": 31,
   "id": "ecdd45c4",
   "metadata": {},
   "outputs": [
    {
     "name": "stdout",
     "output_type": "stream",
     "text": [
      "              precision    recall  f1-score   support\n",
      "\n",
      "           0       0.62      0.39      0.48      2450\n",
      "           1       0.73      0.87      0.79      4550\n",
      "\n",
      "    accuracy                           0.70      7000\n",
      "   macro avg       0.67      0.63      0.64      7000\n",
      "weighted avg       0.69      0.70      0.68      7000\n",
      "\n",
      "Accuracy: 0.7031428571428572\n"
     ]
    }
   ],
   "source": [
    "from sklearn.ensemble import RandomForestRegressor\n",
    "model = RandomForestRegressor(random_state = 15)\n",
    "model.fit(X_train, y_train)\n",
    "y_pred = model.predict(X_test)\n",
    "\n",
    "\n",
    "from sklearn.metrics import classification_report, accuracy_score\n",
    "print(classification_report(y_test, y_pred.round()))\n",
    "print(\"Accuracy:\", accuracy_score(y_test, y_pred.round()))"
   ]
  },
  {
   "cell_type": "code",
   "execution_count": 35,
   "id": "793af0e7",
   "metadata": {},
   "outputs": [],
   "source": [
    "from sklearn.metrics import confusion_matrix\n",
    "cm = confusion_matrix(y_test, y_pred.round())"
   ]
  },
  {
   "cell_type": "code",
   "execution_count": null,
   "id": "22605c1b",
   "metadata": {},
   "outputs": [],
   "source": [
    "plt.figure(figsize = (10,6))\n",
    "sns.heatmap(cm, annot = True, fmt  = 'd', cmap = \"Reds\", cbar =False\n",
    "           xticklabel = ['Not Clicked','Clicked'], yticklabel = ['Not Clicked','Clicked'])\n",
    "plt.xlabel(\"predicted\")"
   ]
  }
 ],
 "metadata": {
  "kernelspec": {
   "display_name": "Python 3",
   "language": "python",
   "name": "python3"
  },
  "language_info": {
   "codemirror_mode": {
    "name": "ipython",
    "version": 3
   },
   "file_extension": ".py",
   "mimetype": "text/x-python",
   "name": "python",
   "nbconvert_exporter": "python",
   "pygments_lexer": "ipython3",
   "version": "3.9.13"
  }
 },
 "nbformat": 4,
 "nbformat_minor": 5
}
